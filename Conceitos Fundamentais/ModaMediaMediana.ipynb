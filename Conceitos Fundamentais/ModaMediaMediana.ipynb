{
 "cells": [
  {
   "cell_type": "code",
   "execution_count": 1,
   "metadata": {},
   "outputs": [],
   "source": [
    "from datetime import datetime\n",
    "from collections import Counter\n",
    "import pandas as pd\n",
    "\n",
    "\n",
    "#Bibliotecas Matematicas e Estatísticas\n",
    "import numpy as np\n",
    "from scipy.stats import spearmanr\n",
    "import statistics as sts\n",
    "from scipy import stats as s\n",
    "\n",
    "#Bibliotecas de Visualização \n",
    "from matplotlib import pyplot as plt \n",
    "import seaborn as sns"
   ]
  },
  {
   "cell_type": "code",
   "execution_count": 3,
   "metadata": {},
   "outputs": [
    {
     "name": "stdout",
     "output_type": "stream",
     "text": [
      "Media: 38.888888888888886, Mediana: 30.0, Moda: 10 \n"
     ]
    }
   ],
   "source": [
    "#Relação Empírica entre medidas de posição\n",
    "#é boa pra visualizar uma medida, quando eu tenho um dado faltante\n",
    "#há condições, pra ser construída essa relaçao\n",
    "\n",
    "\n",
    "dados = [10,10,10,20,30,50,60,80,80]\n",
    "\n",
    "print(f'Media: {np.mean(dados)}, Mediana: {np.median(dados)}, Moda: {sts.mode(dados)} ')\n",
    "\n"
   ]
  },
  {
   "cell_type": "code",
   "execution_count": 4,
   "metadata": {},
   "outputs": [
    {
     "name": "stdout",
     "output_type": "stream",
     "text": [
      "O estado que mais aparace e : PE\n"
     ]
    }
   ],
   "source": [
    "estados = ['SP', 'SP', 'SP', 'PE', 'PE', 'PE', 'PE']\n",
    "\n",
    "print(f'O estado que mais aparace e : {sts.mode(estados)}')"
   ]
  },
  {
   "cell_type": "code",
   "execution_count": 6,
   "metadata": {},
   "outputs": [
    {
     "name": "stdout",
     "output_type": "stream",
     "text": [
      "A moda corresponde a: ModeResult(mode=array([10]), count=array([3]))\n"
     ]
    },
    {
     "name": "stderr",
     "output_type": "stream",
     "text": [
      "C:\\Users\\jamil\\AppData\\Local\\Temp\\ipykernel_1544\\1062246087.py:5: FutureWarning: Unlike other reduction functions (e.g. `skew`, `kurtosis`), the default behavior of `mode` typically preserves the axis it acts along. In SciPy 1.11.0, this behavior will change: the default value of `keepdims` will become False, the `axis` over which the statistic is taken will be eliminated, and the value None will no longer be accepted. Set `keepdims` to True or False to avoid this warning.\n",
      "  print(f'A moda corresponde a: {s.mode(dados, axis=None)}')\n"
     ]
    }
   ],
   "source": [
    "#quando eu quero saber, alem da moda o seu numero de vezes\n",
    "\n",
    "dados = [10, 10, 10, 2, 2, 5, 6, 7]\n",
    "\n",
    "print(f'A moda corresponde a: {s.mode(dados, axis=None)}')"
   ]
  },
  {
   "cell_type": "code",
   "execution_count": 8,
   "metadata": {},
   "outputs": [
    {
     "name": "stdout",
     "output_type": "stream",
     "text": [
      "Para saber as modas: [(10, 3), (2, 3), (5, 3), (6, 1), (7, 1)]\n"
     ]
    }
   ],
   "source": [
    "#eu tenho mais de uma moda\n",
    "#quando eu quero saber, alem da moda o seu numero de vezes\n",
    "\n",
    "dados = [10, 10, 10, 2, 2, 2, 5, 5, 5, 6, 7]\n",
    "freq_dados = Counter(dados)\n",
    "\n",
    "print(f'Para saber as modas: {freq_dados.most_common()}')\n"
   ]
  }
 ],
 "metadata": {
  "kernelspec": {
   "display_name": "Python 3.10.4 64-bit",
   "language": "python",
   "name": "python3"
  },
  "language_info": {
   "codemirror_mode": {
    "name": "ipython",
    "version": 3
   },
   "file_extension": ".py",
   "mimetype": "text/x-python",
   "name": "python",
   "nbconvert_exporter": "python",
   "pygments_lexer": "ipython3",
   "version": "3.10.4"
  },
  "orig_nbformat": 4,
  "vscode": {
   "interpreter": {
    "hash": "a18dfdceb68f3ac3f990150abaffb26a1872846d85f1b49a7c5d3fc2f22e369c"
   }
  }
 },
 "nbformat": 4,
 "nbformat_minor": 2
}
