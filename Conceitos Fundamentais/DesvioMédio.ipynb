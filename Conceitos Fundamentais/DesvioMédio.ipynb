{
 "cells": [
  {
   "cell_type": "markdown",
   "metadata": {},
   "source": [
    "Dispersão:\n",
    "Desvio médio - é a média aritmética dos desvios em relação a uma das mediddas de tendência central(media ou mediana)\n",
    "-> considera diferenças absolutas\n",
    "-> não é tão afetado com valores extremos com o disvio padrão"
   ]
  },
  {
   "cell_type": "code",
   "execution_count": 1,
   "metadata": {},
   "outputs": [],
   "source": [
    "from datetime import datetime\n",
    "from collections import Counter\n",
    "import pandas as pd\n",
    "\n",
    "\n",
    "#Bibliotecas Matematicas e Estatísticas\n",
    "import numpy as np\n",
    "from scipy.stats import spearmanr\n",
    "import statistics as sts\n",
    "from scipy import stats as s\n",
    "\n",
    "#Bibliotecas de Visualização \n",
    "from matplotlib import pyplot as plt \n",
    "import seaborn as sns"
   ]
  },
  {
   "cell_type": "code",
   "execution_count": 5,
   "metadata": {},
   "outputs": [
    {
     "name": "stdout",
     "output_type": "stream",
     "text": [
      "Devio médio da produção dos funcionários: \n",
      "fun1:  0.400 \n",
      "fun2:  8.400\n"
     ]
    }
   ],
   "source": [
    "fun1 = [70,71,69,70,70]\n",
    "fun2 = [60,80,70,62,83]\n",
    "\n",
    "#calculo da media e dimensão dos conjuntos de dados\n",
    "media1 = np.mean(fun1)\n",
    "n1 = len(fun1)\n",
    "\n",
    "media2 = np.mean(fun2)\n",
    "n2 = len(fun2)\n",
    "\n",
    "#calculo do desvio medio em 3 passo\n",
    "dm1 = [abs(fun1[k] - media1) for k in range(0, n1)] \n",
    "dm1 = sum(dm1)\n",
    "dm1 = dm1/n1\n",
    "\n",
    "#mesmo calculo\n",
    "dm2 = [abs(fun2[k] - media2) for k in range(0, n2)] \n",
    "dm2 = sum(dm2)\n",
    "dm2 = dm2/n2\n",
    "\n",
    "print(f'Devio médio da produção dos funcionários: \\nfun1: {dm1: .3f} \\nfun2: {dm2: .3f}')\n"
   ]
  }
 ],
 "metadata": {
  "kernelspec": {
   "display_name": "Python 3.10.4 64-bit",
   "language": "python",
   "name": "python3"
  },
  "language_info": {
   "codemirror_mode": {
    "name": "ipython",
    "version": 3
   },
   "file_extension": ".py",
   "mimetype": "text/x-python",
   "name": "python",
   "nbconvert_exporter": "python",
   "pygments_lexer": "ipython3",
   "version": "3.10.4"
  },
  "orig_nbformat": 4,
  "vscode": {
   "interpreter": {
    "hash": "a18dfdceb68f3ac3f990150abaffb26a1872846d85f1b49a7c5d3fc2f22e369c"
   }
  }
 },
 "nbformat": 4,
 "nbformat_minor": 2
}
