{
 "cells": [
  {
   "cell_type": "code",
   "execution_count": 2,
   "metadata": {},
   "outputs": [],
   "source": [
    "from datetime import datetime\n",
    "from collections import Counter\n",
    "import pandas as pd\n",
    "\n",
    "\n",
    "#Bibliotecas Matematicas e Estatísticas\n",
    "import numpy as np\n",
    "from scipy.stats import spearmanr\n",
    "import statistics as sts\n",
    "from scipy import stats as s\n",
    "\n",
    "#Bibliotecas de Visualização \n",
    "from matplotlib import pyplot as plt \n",
    "import seaborn as sns"
   ]
  },
  {
   "cell_type": "code",
   "execution_count": 7,
   "metadata": {},
   "outputs": [
    {
     "name": "stdout",
     "output_type": "stream",
     "text": [
      "Devio padrao: \n",
      " Funcionario1:  0.632 \n",
      " Funcionario2:  9.252\n"
     ]
    }
   ],
   "source": [
    "fun1 = [70,71,69,70,70]\n",
    "fun2 = [60,80,70,62,83]\n",
    "\n",
    "#calculo direto com a lib numpy\n",
    "\n",
    "dpFun1 = np.std(fun1)\n",
    "dpFun2 = np.std(fun2)\n",
    "\n",
    "print(f'Devio padrao: \\n Funcionario1: {dpFun1: .3f} \\n Funcionario2: {dpFun2: .3f}')"
   ]
  },
  {
   "cell_type": "markdown",
   "metadata": {},
   "source": [
    "Ou seja, o Fun1 tem uma estabilidade maior que o o 2\n"
   ]
  }
 ],
 "metadata": {
  "kernelspec": {
   "display_name": "Python 3.10.4 64-bit",
   "language": "python",
   "name": "python3"
  },
  "language_info": {
   "codemirror_mode": {
    "name": "ipython",
    "version": 3
   },
   "file_extension": ".py",
   "mimetype": "text/x-python",
   "name": "python",
   "nbconvert_exporter": "python",
   "pygments_lexer": "ipython3",
   "version": "3.10.4"
  },
  "orig_nbformat": 4,
  "vscode": {
   "interpreter": {
    "hash": "a18dfdceb68f3ac3f990150abaffb26a1872846d85f1b49a7c5d3fc2f22e369c"
   }
  }
 },
 "nbformat": 4,
 "nbformat_minor": 2
}
