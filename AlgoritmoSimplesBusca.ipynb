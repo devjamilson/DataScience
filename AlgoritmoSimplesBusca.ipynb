{
 "cells": [
  {
   "cell_type": "markdown",
   "metadata": {},
   "source": [
    "Algoritmo de Busca, dentro de uma lista."
   ]
  },
  {
   "cell_type": "markdown",
   "metadata": {},
   "source": [
    "Observação: quando levamos em consideração a efiência de custo de processamento um 'for' dentro de um 'for', não é a melhor alternativa. Entretanto, quando lidamos apenas com listas que envolvem strings, é uma alternativa interessante."
   ]
  },
  {
   "cell_type": "code",
   "execution_count": 1,
   "metadata": {},
   "outputs": [
    {
     "data": {
      "text/plain": [
       "['abacaxi', 'amora', 'amargo', 'amendoim']"
      ]
     },
     "execution_count": 1,
     "metadata": {},
     "output_type": "execute_result"
    }
   ],
   "source": [
    "lista_palavrasAleatorias = ['abacaxi', 'amora', 'amargo', 'banana', 'caju', 'castanha', 'amendoim', 'doce de leite']\n",
    "\n",
    "lst_inicial_alfabeto = []\n",
    "\n",
    "for x in lista_palavrasAleatorias:\n",
    "    lst = []\n",
    "    for i in x:\n",
    "        lst.append(i)\n",
    "    if lst[0] == 'a':\n",
    "        lst_inicial_alfabeto.append(x)\n",
    "\n",
    "lst_inicial_alfabeto"
   ]
  }
 ],
 "metadata": {
  "kernelspec": {
   "display_name": "Python 3.10.4 64-bit",
   "language": "python",
   "name": "python3"
  },
  "language_info": {
   "codemirror_mode": {
    "name": "ipython",
    "version": 3
   },
   "file_extension": ".py",
   "mimetype": "text/x-python",
   "name": "python",
   "nbconvert_exporter": "python",
   "pygments_lexer": "ipython3",
   "version": "3.10.4"
  },
  "orig_nbformat": 4,
  "vscode": {
   "interpreter": {
    "hash": "a18dfdceb68f3ac3f990150abaffb26a1872846d85f1b49a7c5d3fc2f22e369c"
   }
  }
 },
 "nbformat": 4,
 "nbformat_minor": 2
}
