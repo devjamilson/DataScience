{
 "cells": [
  {
   "cell_type": "markdown",
   "metadata": {},
   "source": [
    "Medidas de Dispersão"
   ]
  },
  {
   "cell_type": "code",
   "execution_count": null,
   "metadata": {},
   "outputs": [],
   "source": [
    "#Bibliotecas Matematicas e Estatísticas\n",
    "import numpy as np\n",
    "from scipy.stats import Counter\n",
    "import statistics as sts\n",
    "from scipy import stats as s"
   ]
  }
 ],
 "metadata": {
  "kernelspec": {
   "display_name": "Python 3.10.4 64-bit",
   "language": "python",
   "name": "python3"
  },
  "language_info": {
   "codemirror_mode": {
    "name": "ipython",
    "version": 3
   },
   "file_extension": ".py",
   "mimetype": "text/x-python",
   "name": "python",
   "nbconvert_exporter": "python",
   "pygments_lexer": "ipython3",
   "version": "3.10.4"
  },
  "orig_nbformat": 4,
  "vscode": {
   "interpreter": {
    "hash": "a18dfdceb68f3ac3f990150abaffb26a1872846d85f1b49a7c5d3fc2f22e369c"
   }
  }
 },
 "nbformat": 4,
 "nbformat_minor": 2
}
