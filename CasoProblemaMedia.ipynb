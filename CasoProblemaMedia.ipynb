{
 "cells": [
  {
   "cell_type": "markdown",
   "metadata": {},
   "source": [
    "Medidas de Dispersão"
   ]
  },
  {
   "cell_type": "code",
   "execution_count": 2,
   "metadata": {},
   "outputs": [],
   "source": [
    "from datetime import datetime\n",
    "from collections import Counter\n",
    "import pandas as pd\n",
    "\n",
    "\n",
    "#Bibliotecas Matematicas e Estatísticas\n",
    "import numpy as np\n",
    "from scipy.stats import spearmanr\n",
    "import statistics as sts\n",
    "from scipy import stats as s\n",
    "\n",
    "#Bibliotecas de Visualização \n",
    "from matplotlib import pyplot as plt \n",
    "import seaborn as sns"
   ]
  },
  {
   "cell_type": "code",
   "execution_count": 3,
   "metadata": {},
   "outputs": [],
   "source": [
    "#produção diaria de dois funcionarios\n",
    "fun1 = [70,71,69,70,70]\n",
    "fun2 = [60,80,70,62,83]"
   ]
  },
  {
   "cell_type": "code",
   "execution_count": 4,
   "metadata": {},
   "outputs": [
    {
     "name": "stdout",
     "output_type": "stream",
     "text": [
      "Média de produção \n",
      "Funcionário 1: 70.0 \n",
      "Funcionário : 71.0\n"
     ]
    }
   ],
   "source": [
    "#média de produção - forma de calcular média\n",
    "print('Média de produção',\n",
    "    '\\nFuncionário 1:', np.mean(fun1),\n",
    "    '\\nFuncionário :', np.mean(fun2)\n",
    ")"
   ]
  },
  {
   "cell_type": "markdown",
   "metadata": {},
   "source": [
    "Outilier é um valor que é bastante diferente das outro, e portanto pode alterar totalmente o resultado do calculo das médias"
   ]
  },
  {
   "cell_type": "code",
   "execution_count": 5,
   "metadata": {},
   "outputs": [
    {
     "data": {
      "image/png": "[encoded data removed]",
      "text/plain": [
       "<Figure size 432x288 with 1 Axes>"
      ]
     },
     "metadata": {
      "needs_background": "light"
     },
     "output_type": "display_data"
    }
   ],
   "source": [
    "plt.plot(fun1, color='g')\n",
    "plt.plot(fun2, color='b')\n",
    "plt.ylabel('Produção')\n",
    "plt.xlabel('Tempo')\n",
    "plt.xticks([])\n",
    "plt.legend(['Funcionario 1', 'Funcionario 2'], \n",
    "            loc='best')\n",
    "sns.despine()"
   ]
  },
  {
   "cell_type": "markdown",
   "metadata": {},
   "source": [
    "Caso eu tenha na analise de um comportamento uma sensibilidade de volatilidade, é interessante eu considerar a analise grafica.\n"
   ]
  },
  {
   "cell_type": "code",
   "execution_count": 6,
   "metadata": {},
   "outputs": [
    {
     "name": "stdout",
     "output_type": "stream",
     "text": [
      "Amplitude de produção dos empregados: \n",
      "fun1: 2\n",
      "fun2: 23\n"
     ]
    }
   ],
   "source": [
    "#Amplitude\n",
    "#at = max(dados)-min(dados)  ->amplitude total\n",
    "\n",
    "at_fun1 = max(fun1) - min(fun1)\n",
    "at_fun2 = max(fun2) - min(fun2)\n",
    "\n",
    "print(f'Amplitude de produção dos empregados: \\nfun1: {at_fun1}\\nfun2: {at_fun2}')"
   ]
  }
 ],
 "metadata": {
  "kernelspec": {
   "display_name": "Python 3.10.4 64-bit",
   "language": "python",
   "name": "python3"
  },
  "language_info": {
   "codemirror_mode": {
    "name": "ipython",
    "version": 3
   },
   "file_extension": ".py",
   "mimetype": "text/x-python",
   "name": "python",
   "nbconvert_exporter": "python",
   "pygments_lexer": "ipython3",
   "version": "3.10.4"
  },
  "orig_nbformat": 4,
  "vscode": {
   "interpreter": {
    "hash": "a18dfdceb68f3ac3f990150abaffb26a1872846d85f1b49a7c5d3fc2f22e369c"
   }
  }
 },
 "nbformat": 4,
 "nbformat_minor": 2
}
